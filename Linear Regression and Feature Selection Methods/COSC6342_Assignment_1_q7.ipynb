{
  "nbformat": 4,
  "nbformat_minor": 0,
  "metadata": {
    "colab": {
      "provenance": [],
      "collapsed_sections": []
    },
    "kernelspec": {
      "name": "python3",
      "display_name": "Python 3"
    },
    "language_info": {
      "name": "python"
    }
  },
  "cells": [
    {
      "cell_type": "markdown",
      "source": [
        "You are given a generated regression dataset `D: (X, y)` along already split train and test subsets, `X_train, X_test, y_train, y_test`.\n",
        "\n",
        "    Logistic regression tasks\n",
        "    -----------------------\n",
        "    1. Build a logistic regression model using sklearn.\n",
        "    2. Use no-regularization and any other 2 regulartion methods.\n",
        "    3. Compute the accuracy on the train and test sets (for all models).\n",
        "    4. Describe what you have seen based on the experiements (minimum 150 words).\n",
        "    5. Answer any questions asked in question 7.\n",
        "\n",
        "Resources:\n",
        "1. [Logistic Regression Model](https://scikit-learn.org/stable/modules/generated/sklearn.linear_model.LogisticRegression.html#sklearn.linear_model.LogisticRegression.score)"
      ],
      "metadata": {
        "id": "v8OCttbmEWww"
      }
    },
    {
      "cell_type": "code",
      "execution_count": null,
      "metadata": {
        "id": "MIGNguk-oRHt"
      },
      "outputs": [],
      "source": [
        "import numpy as np\n",
        "import pandas as pd\n",
        "from sklearn.datasets import make_classification\n",
        "from sklearn.linear_model import LogisticRegression\n",
        "from sklearn.model_selection import train_test_split"
      ]
    },
    {
      "cell_type": "code",
      "source": [
        "#@title Data Generation (DO NOT MODIFY)\n",
        "X, y = make_classification(n_samples=500, n_features=10, n_redundant=4, \n",
        "                                 n_informative=6, n_clusters_per_class=1, random_state=42)\n",
        "X_train, X_test, y_train, y_test = train_test_split(X, y, test_size=0.25, random_state=42)"
      ],
      "metadata": {
        "id": "56wb3MlAuZaZ"
      },
      "execution_count": null,
      "outputs": []
    },
    {
      "cell_type": "markdown",
      "source": [
        "Here we import Matplotlib for visualization and NumPy for array operations. We also need LogisticRegression, classification_report(), and confusion_matrix() from scikit-learn"
      ],
      "metadata": {
        "id": "o-qe5trjrs_F"
      }
    },
    {
      "cell_type": "code",
      "source": [
        "# WRITE YOUR CODE STARTING HERE\n",
        "import matplotlib.pyplot as plt\n",
        "from sklearn.metrics import classification_report, confusion_matrix"
      ],
      "metadata": {
        "id": "cngZt8RwFPTn"
      },
      "execution_count": null,
      "outputs": []
    },
    {
      "cell_type": "markdown",
      "source": [
        "Logistic regression is used when the dependent variable is categorical. So we can say logistic regression is a relationship between the one dependent categorical variable with one or more nominal, ordinal, interval variables.\n",
        "\n",
        "Sci-kit learn provides the function \"sklearn.linear_model.LogisticRegression\" to perform the logistic regression.\n",
        "\n",
        "Source: https://www.projectpro.io/recipes/perform-logistic-regression-sklearn"
      ],
      "metadata": {
        "id": "2aGvyEvXr-Tm"
      }
    },
    {
      "cell_type": "markdown",
      "source": [
        "# Building model with and without regularization.\n",
        "\n",
        "---\n",
        "\n",
        "\n",
        "Here we will explore three methods of Logistic Regression.\n",
        "One with non-regularization and two with regularization. For the two regularization methods we use\n",
        "\n",
        "\n",
        "1.   liblinear\n",
        "2.   newton-cfg\n",
        "\n",
        "And for non regularized we use\n",
        "\n",
        "\n",
        "1.   lbfgs\n",
        "\n",
        "We used libliner only for regularized support since it doesnt support non-regularized input as a solver. \n",
        "And newton-cfg thought doesn't support L1 regularization, it still suppports regularization.\n",
        "\n",
        "lbfgs is passed with the penalty none which disables regularization\n",
        "\n",
        "Source: https://scikit-learn.org/stable/modules/generated/sklearn.linear_model.LogisticRegression.html\n",
        "\n",
        "***Note***: We tries saga initially. However for saga, it does not converge using elastic regularization.\n",
        "\n"
      ],
      "metadata": {
        "id": "6v_Sq-4pnk5G"
      }
    },
    {
      "cell_type": "markdown",
      "source": [
        "1. With Regularization, we use liblinear and newton-cg as our solver."
      ],
      "metadata": {
        "id": "ZBlsQSLvthRL"
      }
    },
    {
      "cell_type": "code",
      "source": [
        "model1_regularized = LogisticRegression(solver='liblinear', random_state=0).fit(X_train, y_train)\n",
        "model2_regularized = LogisticRegression(solver='newton-cg', random_state=0).fit(X_train, y_train)\n",
        "model3_nonregularized = LogisticRegression(solver='lbfgs', random_state=0,penalty='none').fit(X_train, y_train)"
      ],
      "metadata": {
        "id": "_5Nvl7uxG3AF"
      },
      "execution_count": null,
      "outputs": []
    },
    {
      "cell_type": "markdown",
      "source": [
        "Once we have created the model, we need to train it. Model fitting is the process of determining the coefficients 𝑏₀, 𝑏₁, …, 𝑏ᵣ that correspond to the best value of the cost function. we did it using .fit()\n",
        "\n",
        "Source: https://realpython.com/logistic-regression-python/\n",
        "\n",
        ".fit() takes x, y, and possibly observation-related weights. Then it fits the model and returns the model instance itself\n"
      ],
      "metadata": {
        "id": "dKdg1t5jtMO6"
      }
    },
    {
      "cell_type": "markdown",
      "source": [
        "Evaluate Regularized Model 1 (liblinear)\n",
        "We use predict() to output the value of perdiction funcion based on probability matrix and the values of 𝑝(X), with .predict()"
      ],
      "metadata": {
        "id": "gM6AuANvptyL"
      }
    },
    {
      "cell_type": "code",
      "source": [
        "# For libliner regularized\n",
        "model1_regularized.predict(X_train)\n"
      ],
      "metadata": {
        "colab": {
          "base_uri": "https://localhost:8080/"
        },
        "id": "1TK5EhyJorQZ",
        "outputId": "93ca3130-8f72-49a6-e16a-541db40fa23e"
      },
      "execution_count": null,
      "outputs": [
        {
          "output_type": "execute_result",
          "data": {
            "text/plain": [
              "array([1, 1, 1, 1, 0, 0, 1, 0, 0, 1, 1, 0, 1, 1, 0, 1, 0, 1, 1, 1, 1, 0,\n",
              "       1, 1, 0, 0, 0, 0, 1, 1, 1, 0, 0, 1, 0, 0, 0, 1, 1, 0, 0, 1, 1, 0,\n",
              "       1, 1, 1, 0, 1, 1, 0, 0, 0, 1, 1, 0, 1, 1, 1, 0, 0, 0, 0, 1, 0, 1,\n",
              "       1, 0, 0, 0, 1, 0, 1, 0, 0, 1, 1, 1, 1, 1, 0, 1, 1, 0, 1, 0, 0, 0,\n",
              "       1, 1, 0, 0, 0, 1, 0, 1, 1, 0, 1, 1, 1, 0, 1, 0, 1, 1, 0, 0, 1, 0,\n",
              "       0, 0, 1, 1, 0, 1, 0, 1, 0, 0, 1, 0, 1, 0, 0, 1, 0, 0, 0, 0, 1, 1,\n",
              "       0, 0, 0, 0, 1, 1, 1, 1, 0, 1, 1, 1, 1, 0, 0, 0, 1, 0, 0, 1, 0, 0,\n",
              "       1, 0, 0, 1, 1, 1, 0, 0, 0, 0, 1, 1, 1, 0, 1, 1, 1, 1, 1, 1, 1, 0,\n",
              "       1, 0, 0, 0, 1, 1, 0, 0, 1, 0, 0, 0, 1, 1, 0, 1, 1, 0, 0, 0, 1, 1,\n",
              "       1, 1, 1, 1, 1, 0, 1, 0, 0, 0, 1, 0, 1, 0, 1, 0, 0, 1, 1, 0, 1, 1,\n",
              "       1, 0, 1, 0, 1, 1, 1, 1, 1, 0, 0, 1, 1, 1, 0, 0, 1, 1, 0, 0, 0, 0,\n",
              "       1, 1, 1, 0, 1, 1, 1, 0, 1, 1, 0, 1, 0, 0, 0, 0, 0, 0, 0, 0, 1, 1,\n",
              "       1, 0, 1, 1, 0, 1, 0, 0, 1, 0, 0, 0, 0, 1, 1, 0, 1, 1, 0, 0, 0, 0,\n",
              "       1, 0, 0, 0, 1, 1, 1, 1, 1, 1, 1, 0, 0, 1, 0, 1, 0, 1, 1, 1, 1, 0,\n",
              "       0, 0, 0, 1, 0, 0, 1, 1, 0, 1, 0, 1, 1, 1, 1, 0, 1, 1, 0, 1, 1, 0,\n",
              "       1, 0, 1, 1, 0, 1, 0, 1, 0, 1, 1, 0, 0, 0, 0, 1, 1, 1, 0, 1, 0, 0,\n",
              "       1, 1, 1, 1, 1, 0, 1, 0, 0, 0, 1, 0, 1, 0, 0, 0, 0, 1, 0, 1, 0, 0,\n",
              "       0])"
            ]
          },
          "metadata": {},
          "execution_count": 29
        }
      ]
    },
    {
      "cell_type": "markdown",
      "source": [
        "predict() will perform a prediction for each test instance and it accepts only a single input (X_train). For classifiers and regressors, the predicted value will be in the same space as the one seen in training set. In clustering estimators, the predicted value will be an integer. The predicted values of the provided test instances will be returned in a form of an output of an array or sparse matrix as we can see here\n",
        "\n",
        "Source: \n",
        "\n",
        "*   https://scipy-lectures.org/packages/scikit-learn/index.html\n",
        "*   https://www.sharpsightlabs.com/blog/sklearn-predict/\n",
        "\n",
        "Source: https://towardsdatascience.com/fit-vs-predict-vs-fit-predict-in-python-scikit-learn-f15a34a8d39f"
      ],
      "metadata": {
        "id": "sCtxuxFdu7xC"
      }
    },
    {
      "cell_type": "code",
      "source": [
        "# For libliner regularized\n",
        "model1_regularized.score(X_train,y_train)"
      ],
      "metadata": {
        "colab": {
          "base_uri": "https://localhost:8080/"
        },
        "id": "UgMi-cY_1tWK",
        "outputId": "07d80245-b49c-46ab-dfd2-51948ee580d6"
      },
      "execution_count": null,
      "outputs": [
        {
          "output_type": "execute_result",
          "data": {
            "text/plain": [
              "0.9013333333333333"
            ]
          },
          "metadata": {},
          "execution_count": 30
        }
      ]
    },
    {
      "cell_type": "markdown",
      "source": [
        "Here .score() takes the input and output as arguments and returns the ratio of the number of correct predictions to the number of observations.\n",
        "\n",
        "\n",
        "Source: https://scikit-learn.org/stable/modules/model_evaluation.html"
      ],
      "metadata": {
        "id": "ufuvs57evyA-"
      }
    },
    {
      "cell_type": "markdown",
      "source": [
        "Evaluating tyhe model using confusion matrix.\n",
        "We ou can get more information on the accuracy of the model with a confusion matrix. The confusion matrix shows the numbers of the following:\n",
        "\n",
        "\n",
        "\n",
        "*   True negatives in the upper-left position\n",
        "*   False negatives in the lower-left position\n",
        "* False positives in the upper-right position\n",
        "* True positives in the lower-right position\n",
        "\n",
        "\n",
        "Source: https://towardsdatascience.com/understanding-confusion-matrix-a9ad42dcfd62"
      ],
      "metadata": {
        "id": "hy-s6RjiquJu"
      }
    },
    {
      "cell_type": "code",
      "source": [
        "# For libliner regularized\n",
        "confusion_matrix(y_train, model1_regularized.predict(X_train))"
      ],
      "metadata": {
        "colab": {
          "base_uri": "https://localhost:8080/"
        },
        "id": "Ql6vRAgDqvgv",
        "outputId": "dcd44dc0-4988-49c4-979c-4a54309fa4f9"
      },
      "execution_count": null,
      "outputs": [
        {
          "output_type": "execute_result",
          "data": {
            "text/plain": [
              "array([[164,  20],\n",
              "       [ 17, 174]])"
            ]
          },
          "metadata": {},
          "execution_count": 31
        }
      ]
    },
    {
      "cell_type": "markdown",
      "source": [
        "Visualize Confusion Matrix"
      ],
      "metadata": {
        "id": "rqdViOMR7vKB"
      }
    },
    {
      "cell_type": "code",
      "source": [
        "# For libliner regularized\n",
        "cm = confusion_matrix(y_train, model1_regularized.predict(X_train))\n",
        "\n",
        "fig, ax = plt.subplots(figsize=(8, 8))\n",
        "ax.imshow(cm)\n",
        "ax.grid(False)\n",
        "ax.xaxis.set(ticks=(0, 1), ticklabels=('Predicted 0s', 'Predicted 1s'))\n",
        "ax.yaxis.set(ticks=(0, 1), ticklabels=('Actual 0s', 'Actual 1s'))\n",
        "ax.set_ylim(1.5, -0.5)\n",
        "for i in range(2):\n",
        "    for j in range(2):\n",
        "        ax.text(j, i, cm[i, j], ha='center', va='center', color='red')\n",
        "plt.show()"
      ],
      "metadata": {
        "colab": {
          "base_uri": "https://localhost:8080/",
          "height": 483
        },
        "id": "bBe7iUj_7u9R",
        "outputId": "f692ac74-afc8-4070-c967-fa954e34534c"
      },
      "execution_count": null,
      "outputs": [
        {
          "output_type": "display_data",
          "data": {
            "text/plain": [
              "<Figure size 576x576 with 1 Axes>"
            ],
            "image/png": "[encoded data removed]"
          },
          "metadata": {
            "needs_background": "light"
          }
        }
      ]
    },
    {
      "cell_type": "code",
      "source": [
        "print(classification_report(y_train, model1_regularized.predict(X_train)))"
      ],
      "metadata": {
        "colab": {
          "base_uri": "https://localhost:8080/"
        },
        "id": "q84bZuSTAu0a",
        "outputId": "267e3ad4-8928-468e-92f0-a606d821bc5c"
      },
      "execution_count": null,
      "outputs": [
        {
          "output_type": "stream",
          "name": "stdout",
          "text": [
            "              precision    recall  f1-score   support\n",
            "\n",
            "           0       0.91      0.89      0.90       184\n",
            "           1       0.90      0.91      0.90       191\n",
            "\n",
            "    accuracy                           0.90       375\n",
            "   macro avg       0.90      0.90      0.90       375\n",
            "weighted avg       0.90      0.90      0.90       375\n",
            "\n"
          ]
        }
      ]
    },
    {
      "cell_type": "markdown",
      "source": [
        "And on the testing dataset"
      ],
      "metadata": {
        "id": "P8GNIqwC-uMo"
      }
    },
    {
      "cell_type": "code",
      "source": [
        "model1_regularized.predict(X_test)\n",
        "\n",
        "\n"
      ],
      "metadata": {
        "colab": {
          "base_uri": "https://localhost:8080/"
        },
        "id": "bn5sQm23_bOQ",
        "outputId": "17799a39-51f3-445c-f4b3-0f297d9de8fe"
      },
      "execution_count": null,
      "outputs": [
        {
          "output_type": "execute_result",
          "data": {
            "text/plain": [
              "array([1, 0, 0, 1, 0, 1, 0, 1, 0, 1, 0, 1, 1, 1, 0, 1, 1, 0, 0, 1, 0, 1,\n",
              "       1, 0, 1, 1, 1, 1, 0, 1, 1, 1, 1, 1, 1, 1, 0, 0, 0, 0, 1, 0, 0, 1,\n",
              "       0, 1, 1, 0, 0, 1, 0, 0, 1, 0, 0, 1, 1, 0, 0, 0, 0, 0, 1, 1, 0, 0,\n",
              "       0, 1, 1, 0, 1, 1, 1, 1, 1, 1, 1, 0, 1, 1, 0, 0, 0, 1, 1, 0, 1, 0,\n",
              "       0, 1, 1, 0, 0, 1, 0, 1, 0, 1, 0, 0, 0, 1, 1, 0, 0, 0, 0, 0, 1, 1,\n",
              "       1, 1, 0, 0, 1, 0, 1, 1, 1, 1, 1, 0, 0, 1, 0])"
            ]
          },
          "metadata": {},
          "execution_count": 34
        }
      ]
    },
    {
      "cell_type": "code",
      "source": [
        "model1_regularized.score(X_test,y_test)"
      ],
      "metadata": {
        "colab": {
          "base_uri": "https://localhost:8080/"
        },
        "id": "xT1mYS1a_4Do",
        "outputId": "da29f758-1b79-42ff-c204-94107f5ddd33"
      },
      "execution_count": null,
      "outputs": [
        {
          "output_type": "execute_result",
          "data": {
            "text/plain": [
              "0.872"
            ]
          },
          "metadata": {},
          "execution_count": 35
        }
      ]
    },
    {
      "cell_type": "code",
      "source": [
        "confusion_matrix(y_test, model1_regularized.predict(X_test))"
      ],
      "metadata": {
        "colab": {
          "base_uri": "https://localhost:8080/"
        },
        "id": "Ytx-GDPc_3yv",
        "outputId": "48218656-57ba-458f-e6da-6ce64c111260"
      },
      "execution_count": null,
      "outputs": [
        {
          "output_type": "execute_result",
          "data": {
            "text/plain": [
              "array([[54, 11],\n",
              "       [ 5, 55]])"
            ]
          },
          "metadata": {},
          "execution_count": 36
        }
      ]
    },
    {
      "cell_type": "code",
      "source": [
        "cm = confusion_matrix(y_test, model1_regularized.predict(X_test))\n",
        "fig, ax = plt.subplots(figsize=(8, 8))\n",
        "ax.imshow(cm)\n",
        "ax.grid(False)\n",
        "ax.xaxis.set(ticks=(0, 1), ticklabels=('Predicted 0s', 'Predicted 1s'))\n",
        "ax.yaxis.set(ticks=(0, 1), ticklabels=('Actual 0s', 'Actual 1s'))\n",
        "ax.set_ylim(1.5, -0.5)\n",
        "for i in range(2):\n",
        "    for j in range(2):\n",
        "        ax.text(j, i, cm[i, j], ha='center', va='center', color='red')\n",
        "plt.show()"
      ],
      "metadata": {
        "colab": {
          "base_uri": "https://localhost:8080/",
          "height": 483
        },
        "id": "cu43gHqY_3eo",
        "outputId": "ac3b9c3d-7a77-441b-a42a-b3d45f39d15d"
      },
      "execution_count": null,
      "outputs": [
        {
          "output_type": "display_data",
          "data": {
            "text/plain": [
              "<Figure size 576x576 with 1 Axes>"
            ],
            "image/png": "[encoded data removed]"
          },
          "metadata": {
            "needs_background": "light"
          }
        }
      ]
    },
    {
      "cell_type": "code",
      "source": [
        "print(classification_report(y_test, model1_regularized.predict(X_test)))"
      ],
      "metadata": {
        "colab": {
          "base_uri": "https://localhost:8080/"
        },
        "id": "j_ES3OY_APtx",
        "outputId": "db0b8b9b-30bc-4d97-f6a8-32f4b1c6c223"
      },
      "execution_count": null,
      "outputs": [
        {
          "output_type": "stream",
          "name": "stdout",
          "text": [
            "              precision    recall  f1-score   support\n",
            "\n",
            "           0       0.92      0.83      0.87        65\n",
            "           1       0.83      0.92      0.87        60\n",
            "\n",
            "    accuracy                           0.87       125\n",
            "   macro avg       0.87      0.87      0.87       125\n",
            "weighted avg       0.88      0.87      0.87       125\n",
            "\n"
          ]
        }
      ]
    },
    {
      "cell_type": "markdown",
      "source": [
        "2. Using newton-cg as solver for regularized"
      ],
      "metadata": {
        "id": "zaoydwUL-yQ5"
      }
    },
    {
      "cell_type": "code",
      "source": [
        "model2_regularized.predict(X_train)\n",
        "model2_regularized.score(X_train,y_train)\n",
        "confusion_matrix(y_train, model2_regularized.predict(X_train))\n",
        "cm = confusion_matrix(y_train, model2_regularized.predict(X_train))\n",
        "\n",
        "fig, ax = plt.subplots(figsize=(8, 8))\n",
        "ax.imshow(cm)\n",
        "ax.grid(False)\n",
        "ax.xaxis.set(ticks=(0, 1), ticklabels=('Predicted 0s', 'Predicted 1s'))\n",
        "ax.yaxis.set(ticks=(0, 1), ticklabels=('Actual 0s', 'Actual 1s'))\n",
        "ax.set_ylim(1.5, -0.5)\n",
        "for i in range(2):\n",
        "    for j in range(2):\n",
        "        ax.text(j, i, cm[i, j], ha='center', va='center', color='red')\n",
        "plt.show()"
      ],
      "metadata": {
        "colab": {
          "base_uri": "https://localhost:8080/",
          "height": 483
        },
        "id": "obZexdnt7u7Q",
        "outputId": "249e98d8-c9fa-4cdb-8161-2474c03e5e9a"
      },
      "execution_count": null,
      "outputs": [
        {
          "output_type": "display_data",
          "data": {
            "text/plain": [
              "<Figure size 576x576 with 1 Axes>"
            ],
            "image/png": "[encoded data removed]"
          },
          "metadata": {
            "needs_background": "light"
          }
        }
      ]
    },
    {
      "cell_type": "code",
      "source": [
        "print(classification_report(y_train, model2_regularized.predict(X_train)))"
      ],
      "metadata": {
        "colab": {
          "base_uri": "https://localhost:8080/"
        },
        "id": "mP_0R0FYC-74",
        "outputId": "f05fd7fd-6e1a-4b7d-ccc2-e6f7c13aba1e"
      },
      "execution_count": null,
      "outputs": [
        {
          "output_type": "stream",
          "name": "stdout",
          "text": [
            "              precision    recall  f1-score   support\n",
            "\n",
            "           0       0.91      0.89      0.90       184\n",
            "           1       0.90      0.91      0.90       191\n",
            "\n",
            "    accuracy                           0.90       375\n",
            "   macro avg       0.90      0.90      0.90       375\n",
            "weighted avg       0.90      0.90      0.90       375\n",
            "\n"
          ]
        }
      ]
    },
    {
      "cell_type": "code",
      "source": [
        "model2_regularized.predict(X_test)\n",
        "model2_regularized.score(X_test,y_test)\n",
        "confusion_matrix(y_test, model2_regularized.predict(X_test))\n",
        "cm = confusion_matrix(y_test, model2_regularized.predict(X_test))\n",
        "\n",
        "fig, ax = plt.subplots(figsize=(8, 8))\n",
        "ax.imshow(cm)\n",
        "ax.grid(False)\n",
        "ax.xaxis.set(ticks=(0, 1), ticklabels=('Predicted 0s', 'Predicted 1s'))\n",
        "ax.yaxis.set(ticks=(0, 1), ticklabels=('Actual 0s', 'Actual 1s'))\n",
        "ax.set_ylim(1.5, -0.5)\n",
        "for i in range(2):\n",
        "    for j in range(2):\n",
        "        ax.text(j, i, cm[i, j], ha='center', va='center', color='red')\n",
        "plt.show()"
      ],
      "metadata": {
        "colab": {
          "base_uri": "https://localhost:8080/",
          "height": 483
        },
        "id": "b42zsW2tqzV8",
        "outputId": "f64ea4fb-b283-48ba-8c54-eb49b711dea4"
      },
      "execution_count": null,
      "outputs": [
        {
          "output_type": "display_data",
          "data": {
            "text/plain": [
              "<Figure size 576x576 with 1 Axes>"
            ],
            "image/png": "[encoded data removed]"
          },
          "metadata": {
            "needs_background": "light"
          }
        }
      ]
    },
    {
      "cell_type": "code",
      "source": [
        "print(classification_report(y_test, model2_regularized.predict(X_test)))"
      ],
      "metadata": {
        "colab": {
          "base_uri": "https://localhost:8080/"
        },
        "id": "Rl1ZR7tqq8uc",
        "outputId": "cef16083-d8a1-4e85-a63e-2dee8fb3a730"
      },
      "execution_count": null,
      "outputs": [
        {
          "output_type": "stream",
          "name": "stdout",
          "text": [
            "              precision    recall  f1-score   support\n",
            "\n",
            "           0       0.93      0.85      0.89        65\n",
            "           1       0.85      0.93      0.89        60\n",
            "\n",
            "    accuracy                           0.89       125\n",
            "   macro avg       0.89      0.89      0.89       125\n",
            "weighted avg       0.89      0.89      0.89       125\n",
            "\n"
          ]
        }
      ]
    },
    {
      "cell_type": "markdown",
      "source": [
        "3. Using lbfgs for nonregularized model"
      ],
      "metadata": {
        "id": "1mkkjsK0DC3T"
      }
    },
    {
      "cell_type": "code",
      "source": [
        "model3_nonregularized.predict(X_train)\n",
        "model3_nonregularized.score(X_train,y_train)\n",
        "confusion_matrix(y_train, model3_nonregularized.predict(X_train))\n",
        "cm = confusion_matrix(y_train, model3_nonregularized.predict(X_train))\n",
        "\n",
        "fig, ax = plt.subplots(figsize=(8, 8))\n",
        "ax.imshow(cm)\n",
        "ax.grid(False)\n",
        "ax.xaxis.set(ticks=(0, 1), ticklabels=('Predicted 0s', 'Predicted 1s'))\n",
        "ax.yaxis.set(ticks=(0, 1), ticklabels=('Actual 0s', 'Actual 1s'))\n",
        "ax.set_ylim(1.5, -0.5)\n",
        "for i in range(2):\n",
        "    for j in range(2):\n",
        "        ax.text(j, i, cm[i, j], ha='center', va='center', color='red')\n",
        "plt.show()"
      ],
      "metadata": {
        "colab": {
          "base_uri": "https://localhost:8080/",
          "height": 483
        },
        "id": "QPMiDIEIDKnR",
        "outputId": "12a55599-244b-4156-b2a3-e232a9e45e5f"
      },
      "execution_count": null,
      "outputs": [
        {
          "output_type": "display_data",
          "data": {
            "text/plain": [
              "<Figure size 576x576 with 1 Axes>"
            ],
            "image/png": "[encoded data removed]"
          },
          "metadata": {
            "needs_background": "light"
          }
        }
      ]
    },
    {
      "cell_type": "code",
      "source": [
        "print(classification_report(y_train, model3_nonregularized.predict(X_train)))"
      ],
      "metadata": {
        "colab": {
          "base_uri": "https://localhost:8080/"
        },
        "id": "qRUSR1PfEO7T",
        "outputId": "14fb3e9f-ac2c-47d8-847c-c1c3b1df2a7c"
      },
      "execution_count": null,
      "outputs": [
        {
          "output_type": "stream",
          "name": "stdout",
          "text": [
            "              precision    recall  f1-score   support\n",
            "\n",
            "           0       0.91      0.90      0.90       184\n",
            "           1       0.90      0.91      0.91       191\n",
            "\n",
            "    accuracy                           0.90       375\n",
            "   macro avg       0.90      0.90      0.90       375\n",
            "weighted avg       0.90      0.90      0.90       375\n",
            "\n"
          ]
        }
      ]
    },
    {
      "cell_type": "code",
      "source": [
        "model3_nonregularized.predict(X_test)\n",
        "model3_nonregularized.score(X_test,y_test)\n",
        "confusion_matrix(y_test, model3_nonregularized.predict(X_test))\n",
        "cm = confusion_matrix(y_test, model3_nonregularized.predict(X_test))\n",
        "\n",
        "fig, ax = plt.subplots(figsize=(8, 8))\n",
        "ax.imshow(cm)\n",
        "ax.grid(False)\n",
        "ax.xaxis.set(ticks=(0, 1), ticklabels=('Predicted 0s', 'Predicted 1s'))\n",
        "ax.yaxis.set(ticks=(0, 1), ticklabels=('Actual 0s', 'Actual 1s'))\n",
        "ax.set_ylim(1.5, -0.5)\n",
        "for i in range(2):\n",
        "    for j in range(2):\n",
        "        ax.text(j, i, cm[i, j], ha='center', va='center', color='red')\n",
        "plt.show()"
      ],
      "metadata": {
        "colab": {
          "base_uri": "https://localhost:8080/",
          "height": 483
        },
        "id": "KjFbGU95rJzz",
        "outputId": "39ec6081-e97e-4570-acbf-e88ae6be39e6"
      },
      "execution_count": null,
      "outputs": [
        {
          "output_type": "display_data",
          "data": {
            "text/plain": [
              "<Figure size 576x576 with 1 Axes>"
            ],
            "image/png": "[encoded data removed]"
          },
          "metadata": {
            "needs_background": "light"
          }
        }
      ]
    },
    {
      "cell_type": "code",
      "source": [
        "print(classification_report(y_test, model3_nonregularized.predict(X_test)))"
      ],
      "metadata": {
        "colab": {
          "base_uri": "https://localhost:8080/"
        },
        "id": "zGPnpZKprLNX",
        "outputId": "dea142f3-b4e8-40ca-8198-9e5ec32e16a5"
      },
      "execution_count": null,
      "outputs": [
        {
          "output_type": "stream",
          "name": "stdout",
          "text": [
            "              precision    recall  f1-score   support\n",
            "\n",
            "           0       0.93      0.85      0.89        65\n",
            "           1       0.85      0.93      0.89        60\n",
            "\n",
            "    accuracy                           0.89       125\n",
            "   macro avg       0.89      0.89      0.89       125\n",
            "weighted avg       0.89      0.89      0.89       125\n",
            "\n"
          ]
        }
      ]
    },
    {
      "cell_type": "markdown",
      "source": [
        "Analysis of Regularization\n",
        "Both L1 and L2 can add a penalty to the cost depending upon the model complexity, so at the place of computing the cost by using a loss function, there will be an auxiliary component, known as regularization terms, added in order to panelizing complex models. \n",
        "\n",
        " \n",
        "\n",
        "By adding regularization term, the value of weights matrices reduces by assuming that a neural network having less weights makes simpler models. And hence, it reduces the overfitting to a certain level.\n",
        "\n",
        "* L1 regularization: It adds an L1 penalty that is equal to the absolute value of the magnitude of coefficient, or simply restricting the size of coefficients. For example, Lasso regression implements this method. \n",
        "\n",
        "* L2 Regularization: It adds an L2 penalty which is equal to the square of the magnitude of coefficients. For example, Ridge regression and SVM implement this method.\n",
        "\n",
        "* Elastic Net: When L1 and L2 regularization combine together, it becomes the elastic net method, it adds a hyperparameter.\n",
        "\n",
        "\n",
        "**For us we tried to use \"saga\" for elastic net. but it nver converged for us.\n",
        "For the model1 we used libliner which uses a L1 regularization\n",
        "And for model2 we used newton-cfg which uses L2 regularization**\n",
        "\n",
        "\n"
      ],
      "metadata": {
        "id": "q3u-6rMAylah"
      }
    }
  ]
}